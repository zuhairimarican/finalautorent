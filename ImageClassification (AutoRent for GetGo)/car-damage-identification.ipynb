{
 "cells": [
  {
   "cell_type": "code",
   "execution_count": 1,
   "id": "4ebd772a",
   "metadata": {
    "execution": {
     "iopub.execute_input": "2022-08-29T07:54:32.183862Z",
     "iopub.status.busy": "2022-08-29T07:54:32.183142Z",
     "iopub.status.idle": "2022-08-29T07:54:38.789451Z",
     "shell.execute_reply": "2022-08-29T07:54:38.788777Z",
     "shell.execute_reply.started": "2022-08-29T07:53:20.390714Z"
    },
    "papermill": {
     "duration": 6.628733,
     "end_time": "2022-08-29T07:54:38.789636",
     "exception": false,
     "start_time": "2022-08-29T07:54:32.160903",
     "status": "completed"
    },
    "tags": []
   },
   "outputs": [
    {
     "name": "stdout",
     "output_type": "stream",
     "text": [
      "2.4.1\n"
     ]
    }
   ],
   "source": [
    "import tensorflow as tf\n",
    "print(tf.__version__)"
   ]
  },
  {
   "cell_type": "code",
   "execution_count": 2,
   "id": "bf143858",
   "metadata": {
    "execution": {
     "iopub.execute_input": "2022-08-29T07:54:38.816358Z",
     "iopub.status.busy": "2022-08-29T07:54:38.815685Z",
     "iopub.status.idle": "2022-08-29T07:54:39.046365Z",
     "shell.execute_reply": "2022-08-29T07:54:39.045686Z",
     "shell.execute_reply.started": "2022-08-29T07:53:22.661310Z"
    },
    "papermill": {
     "duration": 0.244686,
     "end_time": "2022-08-29T07:54:39.046539",
     "exception": false,
     "start_time": "2022-08-29T07:54:38.801853",
     "status": "completed"
    },
    "tags": []
   },
   "outputs": [],
   "source": [
    "import numpy as np\n",
    "import cv2\n",
    "from keras.models import Sequential\n",
    "from keras.layers import Dense, Dropout, Flatten\n",
    "from keras.layers import Conv2D\n",
    "from keras.optimizers import Adam\n",
    "from keras.layers import MaxPooling2D\n",
    "from keras.preprocessing.image import ImageDataGenerator"
   ]
  },
  {
   "cell_type": "code",
   "execution_count": 3,
   "id": "6f8bb4aa",
   "metadata": {
    "execution": {
     "iopub.execute_input": "2022-08-29T07:54:39.076212Z",
     "iopub.status.busy": "2022-08-29T07:54:39.075537Z",
     "iopub.status.idle": "2022-08-29T07:54:39.291266Z",
     "shell.execute_reply": "2022-08-29T07:54:39.292009Z",
     "shell.execute_reply.started": "2022-08-29T07:53:22.694340Z"
    },
    "papermill": {
     "duration": 0.234562,
     "end_time": "2022-08-29T07:54:39.292241",
     "exception": false,
     "start_time": "2022-08-29T07:54:39.057679",
     "status": "completed"
    },
    "tags": []
   },
   "outputs": [
    {
     "name": "stdout",
     "output_type": "stream",
     "text": [
      "Found 196 images belonging to 2 classes.\n",
      "Found 21 images belonging to 2 classes.\n"
     ]
    }
   ],
   "source": [
    "#Reduce the size of the images to reduce the model size. 128x128 = 812MB\n",
    "#Rescale the image sizes to between 0 and 1\n",
    "train_img_datagen = ImageDataGenerator(rescale=1./255)\n",
    "val_img_datagen = ImageDataGenerator(rescale=1./255)\n",
    "\n",
    "train_set = train_img_datagen.flow_from_directory(\n",
    "    '../input/cartrainset',\n",
    "    target_size=(32,32),\n",
    "    batch_size=32,\n",
    "    color_mode='rgb',\n",
    "    class_mode='categorical')\n",
    "\n",
    "val_set = val_img_datagen.flow_from_directory(\n",
    "    '../input/cartestset',\n",
    "    target_size=(32,32),\n",
    "    batch_size=32,\n",
    "    color_mode='rgb',\n",
    "    class_mode='categorical')"
   ]
  },
  {
   "cell_type": "code",
   "execution_count": 4,
   "id": "7fb7211d",
   "metadata": {
    "execution": {
     "iopub.execute_input": "2022-08-29T07:54:39.323375Z",
     "iopub.status.busy": "2022-08-29T07:54:39.322689Z",
     "iopub.status.idle": "2022-08-29T07:54:39.534652Z",
     "shell.execute_reply": "2022-08-29T07:54:39.533897Z",
     "shell.execute_reply.started": "2022-08-29T07:53:22.910824Z"
    },
    "papermill": {
     "duration": 0.230299,
     "end_time": "2022-08-29T07:54:39.534811",
     "exception": false,
     "start_time": "2022-08-29T07:54:39.304512",
     "status": "completed"
    },
    "tags": []
   },
   "outputs": [
    {
     "name": "stdout",
     "output_type": "stream",
     "text": [
      "Found 196 images belonging to 2 classes.\n",
      "Found 21 images belonging to 2 classes.\n"
     ]
    }
   ],
   "source": [
    "#Reduce the size of the images to reduce the model size. 128x128 = 812MB\n",
    "#Rescale the image sizes to between 0 and 1\n",
    "train_img_datagen = ImageDataGenerator(rescale=1./255)\n",
    "val_img_datagen = ImageDataGenerator(rescale=1./255)\n",
    "\n",
    "train_set = train_img_datagen.flow_from_directory(\n",
    "    '../input/cartrainset',\n",
    "    target_size=(32,32),\n",
    "    batch_size=32,\n",
    "    color_mode='rgb',\n",
    "    class_mode='categorical')\n",
    "\n",
    "val_set = val_img_datagen.flow_from_directory(\n",
    "    '../input/cartestset',\n",
    "    target_size=(32,32),\n",
    "    batch_size=32,\n",
    "    color_mode='rgb',\n",
    "    class_mode='categorical')"
   ]
  },
  {
   "cell_type": "code",
   "execution_count": 5,
   "id": "f44655e9",
   "metadata": {
    "execution": {
     "iopub.execute_input": "2022-08-29T07:54:39.565140Z",
     "iopub.status.busy": "2022-08-29T07:54:39.564420Z",
     "iopub.status.idle": "2022-08-29T07:54:39.566880Z",
     "shell.execute_reply": "2022-08-29T07:54:39.566219Z",
     "shell.execute_reply.started": "2022-08-29T07:53:23.127428Z"
    },
    "papermill": {
     "duration": 0.019318,
     "end_time": "2022-08-29T07:54:39.567037",
     "exception": false,
     "start_time": "2022-08-29T07:54:39.547719",
     "status": "completed"
    },
    "tags": []
   },
   "outputs": [],
   "source": [
    "class_dict = {'normal': 0,\n",
    " 'damage': 1}\n",
    "\n",
    "class_names = list(class_dict.keys())"
   ]
  },
  {
   "cell_type": "code",
   "execution_count": 6,
   "id": "d028ce35",
   "metadata": {
    "execution": {
     "iopub.execute_input": "2022-08-29T07:54:39.596783Z",
     "iopub.status.busy": "2022-08-29T07:54:39.596063Z",
     "iopub.status.idle": "2022-08-29T07:54:39.714904Z",
     "shell.execute_reply": "2022-08-29T07:54:39.714148Z",
     "shell.execute_reply.started": "2022-08-29T07:53:23.134363Z"
    },
    "papermill": {
     "duration": 0.136052,
     "end_time": "2022-08-29T07:54:39.715064",
     "exception": false,
     "start_time": "2022-08-29T07:54:39.579012",
     "status": "completed"
    },
    "tags": []
   },
   "outputs": [],
   "source": [
    "model = Sequential([\n",
    "    Conv2D(filters=32, kernel_size=1, input_shape=(32,32,3)),\n",
    "    Flatten(input_shape=(32, 32)), #flatten --> 3D to 2D\n",
    "    Dense(16, activation='relu'),\n",
    "    Dense(2, activation='softmax')\n",
    "])"
   ]
  },
  {
   "cell_type": "code",
   "execution_count": 7,
   "id": "f6258f08",
   "metadata": {
    "execution": {
     "iopub.execute_input": "2022-08-29T07:54:39.751606Z",
     "iopub.status.busy": "2022-08-29T07:54:39.750897Z",
     "iopub.status.idle": "2022-08-29T07:54:39.757951Z",
     "shell.execute_reply": "2022-08-29T07:54:39.758498Z",
     "shell.execute_reply.started": "2022-08-29T07:53:23.200082Z"
    },
    "papermill": {
     "duration": 0.031811,
     "end_time": "2022-08-29T07:54:39.758698",
     "exception": false,
     "start_time": "2022-08-29T07:54:39.726887",
     "status": "completed"
    },
    "tags": []
   },
   "outputs": [],
   "source": [
    "#Use BinaryCrossentropy for classification of 0 and 1\n",
    "#https://www.tensorflow.org/api_docs/python/tf/keras/losses/BinaryCrossentropy\n",
    "model.compile(optimizer='adam',\n",
    "              loss=tf.keras.losses.BinaryCrossentropy(from_logits=True),\n",
    "              metrics=['accuracy'])\n",
    "\n"
   ]
  },
  {
   "cell_type": "code",
   "execution_count": 8,
   "id": "7581b29b",
   "metadata": {
    "execution": {
     "iopub.execute_input": "2022-08-29T07:54:39.786200Z",
     "iopub.status.busy": "2022-08-29T07:54:39.785521Z",
     "iopub.status.idle": "2022-08-29T07:54:56.614988Z",
     "shell.execute_reply": "2022-08-29T07:54:56.613923Z",
     "shell.execute_reply.started": "2022-08-29T07:53:23.217522Z"
    },
    "papermill": {
     "duration": 16.843917,
     "end_time": "2022-08-29T07:54:56.615146",
     "exception": false,
     "start_time": "2022-08-29T07:54:39.771229",
     "status": "completed"
    },
    "tags": []
   },
   "outputs": [
    {
     "name": "stdout",
     "output_type": "stream",
     "text": [
      "Epoch 1/8\n",
      "7/7 [==============================] - 4s 459ms/step - loss: 1.6103 - accuracy: 0.5054 - val_loss: 1.0923 - val_accuracy: 0.5238\n",
      "Epoch 2/8\n",
      "7/7 [==============================] - 2s 259ms/step - loss: 0.7935 - accuracy: 0.5973 - val_loss: 0.9850 - val_accuracy: 0.4286\n",
      "Epoch 3/8\n",
      "7/7 [==============================] - 2s 244ms/step - loss: 0.6385 - accuracy: 0.7197 - val_loss: 0.8267 - val_accuracy: 0.5238\n",
      "Epoch 4/8\n",
      "7/7 [==============================] - 2s 259ms/step - loss: 0.4914 - accuracy: 0.7864 - val_loss: 0.9338 - val_accuracy: 0.4762\n",
      "Epoch 5/8\n",
      "7/7 [==============================] - 2s 298ms/step - loss: 0.4866 - accuracy: 0.7564 - val_loss: 0.7629 - val_accuracy: 0.5238\n",
      "Epoch 6/8\n",
      "7/7 [==============================] - 2s 253ms/step - loss: 0.4458 - accuracy: 0.7905 - val_loss: 0.7389 - val_accuracy: 0.5714\n",
      "Epoch 7/8\n",
      "7/7 [==============================] - 2s 236ms/step - loss: 0.3554 - accuracy: 0.8526 - val_loss: 1.0803 - val_accuracy: 0.5238\n",
      "Epoch 8/8\n",
      "7/7 [==============================] - 2s 242ms/step - loss: 0.3683 - accuracy: 0.7873 - val_loss: 0.7638 - val_accuracy: 0.7143\n",
      "Model: \"sequential\"\n",
      "_________________________________________________________________\n",
      "Layer (type)                 Output Shape              Param #   \n",
      "=================================================================\n",
      "conv2d (Conv2D)              (None, 32, 32, 32)        128       \n",
      "_________________________________________________________________\n",
      "flatten (Flatten)            (None, 32768)             0         \n",
      "_________________________________________________________________\n",
      "dense (Dense)                (None, 16)                524304    \n",
      "_________________________________________________________________\n",
      "dense_1 (Dense)              (None, 2)                 34        \n",
      "=================================================================\n",
      "Total params: 524,466\n",
      "Trainable params: 524,466\n",
      "Non-trainable params: 0\n",
      "_________________________________________________________________\n"
     ]
    }
   ],
   "source": [
    "model_info = model.fit(train_set,batch_size=32, validation_data= val_set, epochs=8, shuffle=True)\n",
    "\n",
    "model.summary()"
   ]
  },
  {
   "cell_type": "code",
   "execution_count": 9,
   "id": "baffb28b",
   "metadata": {
    "execution": {
     "iopub.execute_input": "2022-08-29T07:54:56.685371Z",
     "iopub.status.busy": "2022-08-29T07:54:56.684369Z",
     "iopub.status.idle": "2022-08-29T07:54:57.050007Z",
     "shell.execute_reply": "2022-08-29T07:54:57.049432Z",
     "shell.execute_reply.started": "2022-08-29T07:53:38.940457Z"
    },
    "papermill": {
     "duration": 0.403792,
     "end_time": "2022-08-29T07:54:57.050163",
     "exception": false,
     "start_time": "2022-08-29T07:54:56.646371",
     "status": "completed"
    },
    "tags": []
   },
   "outputs": [
    {
     "name": "stdout",
     "output_type": "stream",
     "text": [
      "dict_keys(['loss', 'accuracy', 'val_loss', 'val_accuracy'])\n"
     ]
    },
    {
     "data": {
      "image/png": "[encoded data removed]",
      "text/plain": [
       "<Figure size 432x288 with 1 Axes>"
      ]
     },
     "metadata": {
      "needs_background": "light"
     },
     "output_type": "display_data"
    },
    {
     "data": {
      "image/png": "[encoded data removed]",
      "text/plain": [
       "<Figure size 432x288 with 1 Axes>"
      ]
     },
     "metadata": {
      "needs_background": "light"
     },
     "output_type": "display_data"
    }
   ],
   "source": [
    "import matplotlib.pyplot as plt\n",
    "\n",
    "# list all data in history\n",
    "print(model_info.history.keys())\n",
    "\n",
    "# summarize history for accuracy\n",
    "plt.plot(model_info.history['accuracy'])\n",
    "plt.plot(model_info.history['val_accuracy'])\n",
    "plt.title('model accuracy')\n",
    "plt.ylabel('accuracy')\n",
    "plt.xlabel('epoch')\n",
    "plt.legend(['train', 'test'], loc='upper left')\n",
    "plt.show()\n",
    "# summarize history for loss\n",
    "plt.plot(model_info.history['loss'])\n",
    "plt.plot(model_info.history['val_loss'])\n",
    "plt.title('model loss')\n",
    "plt.ylabel('loss')\n",
    "plt.xlabel('epoch')\n",
    "plt.legend(['train', 'test'], loc='upper left')\n",
    "plt.show()"
   ]
  },
  {
   "cell_type": "code",
   "execution_count": 10,
   "id": "3eda7915",
   "metadata": {
    "execution": {
     "iopub.execute_input": "2022-08-29T07:54:57.126543Z",
     "iopub.status.busy": "2022-08-29T07:54:57.125830Z",
     "iopub.status.idle": "2022-08-29T07:54:57.154642Z",
     "shell.execute_reply": "2022-08-29T07:54:57.153891Z",
     "shell.execute_reply.started": "2022-08-29T07:53:39.288068Z"
    },
    "papermill": {
     "duration": 0.070837,
     "end_time": "2022-08-29T07:54:57.154806",
     "exception": false,
     "start_time": "2022-08-29T07:54:57.083969",
     "status": "completed"
    },
    "tags": []
   },
   "outputs": [],
   "source": [
    "model.save('carnormaldamageRGBWorking.h5')"
   ]
  },
  {
   "cell_type": "code",
   "execution_count": 11,
   "id": "1d7ec84b",
   "metadata": {
    "execution": {
     "iopub.execute_input": "2022-08-29T07:54:57.224684Z",
     "iopub.status.busy": "2022-08-29T07:54:57.223985Z",
     "iopub.status.idle": "2022-08-29T07:54:57.477704Z",
     "shell.execute_reply": "2022-08-29T07:54:57.477084Z",
     "shell.execute_reply.started": "2022-08-29T07:53:39.323414Z"
    },
    "papermill": {
     "duration": 0.289011,
     "end_time": "2022-08-29T07:54:57.477859",
     "exception": false,
     "start_time": "2022-08-29T07:54:57.188848",
     "status": "completed"
    },
    "tags": []
   },
   "outputs": [],
   "source": [
    "from keras.models import load_model\n",
    "model = load_model('carnormaldamageRGBWorking.h5')"
   ]
  },
  {
   "cell_type": "code",
   "execution_count": 12,
   "id": "ab47ec6f",
   "metadata": {
    "execution": {
     "iopub.execute_input": "2022-08-29T07:54:57.548908Z",
     "iopub.status.busy": "2022-08-29T07:54:57.548186Z",
     "iopub.status.idle": "2022-08-29T07:54:57.550666Z",
     "shell.execute_reply": "2022-08-29T07:54:57.551110Z",
     "shell.execute_reply.started": "2022-08-29T07:53:39.597769Z"
    },
    "papermill": {
     "duration": 0.040601,
     "end_time": "2022-08-29T07:54:57.551303",
     "exception": false,
     "start_time": "2022-08-29T07:54:57.510702",
     "status": "completed"
    },
    "tags": []
   },
   "outputs": [],
   "source": [
    "from keras.models import load_model\n",
    "from keras.preprocessing import image\n",
    "import matplotlib.pyplot as plt\n",
    "import numpy as np\n",
    "\n",
    "# dimensions of our images\n",
    "img_width, img_height = 32, 32\n",
    "images_dir = \"../input/cartestset\""
   ]
  },
  {
   "cell_type": "code",
   "execution_count": 13,
   "id": "a53f6922",
   "metadata": {
    "execution": {
     "iopub.execute_input": "2022-08-29T07:54:57.619869Z",
     "iopub.status.busy": "2022-08-29T07:54:57.619134Z",
     "iopub.status.idle": "2022-08-29T07:54:57.871135Z",
     "shell.execute_reply": "2022-08-29T07:54:57.870616Z",
     "shell.execute_reply.started": "2022-08-29T07:53:39.604586Z"
    },
    "papermill": {
     "duration": 0.287302,
     "end_time": "2022-08-29T07:54:57.871285",
     "exception": false,
     "start_time": "2022-08-29T07:54:57.583983",
     "status": "completed"
    },
    "tags": []
   },
   "outputs": [
    {
     "name": "stderr",
     "output_type": "stream",
     "text": [
      "/opt/conda/lib/python3.7/site-packages/tensorflow/python/keras/engine/sequential.py:450: UserWarning: `model.predict_classes()` is deprecated and will be removed after 2021-01-01. Please use instead:* `np.argmax(model.predict(x), axis=-1)`,   if your model does multi-class classification   (e.g. if it uses a `softmax` last-layer activation).* `(model.predict(x) > 0.5).astype(\"int32\")`,   if your model does binary classification   (e.g. if it uses a `sigmoid` last-layer activation).\n",
      "  warnings.warn('`model.predict_classes()` is deprecated and '\n",
      "/opt/conda/lib/python3.7/site-packages/tensorflow/python/keras/engine/sequential.py:425: UserWarning: `model.predict_proba()` is deprecated and will be removed after 2021-01-01. Please use `model.predict()` instead.\n",
      "  warnings.warn('`model.predict_proba()` is deprecated and '\n"
     ]
    },
    {
     "name": "stdout",
     "output_type": "stream",
     "text": [
      "{'Class': 'damage', 'Probability': 0.6697473}\n"
     ]
    },
    {
     "data": {
      "image/png": "[encoded data removed]",
      "text/plain": [
       "<Figure size 288x288 with 1 Axes>"
      ]
     },
     "metadata": {
      "needs_background": "light"
     },
     "output_type": "display_data"
    }
   ],
   "source": [
    "# predicting single image\n",
    "image_path = \"../input/carvalset/W7.jpg\"\n",
    "new_img = image.load_img(image_path, target_size=(img_width, img_height))\n",
    "img = image.img_to_array(new_img)\n",
    "img = np.expand_dims(img, axis=0)\n",
    "img = img/255\n",
    "\n",
    "img_class = model.predict_classes(img) #returns ndim np_array\n",
    "img_class_index = img_class.item() #extracting value(s)\n",
    "classname = class_names[img_class_index]\n",
    "\n",
    "img_prob = model.predict_proba(img) #returns numpy array of class probabilities\n",
    "prediction_prob = img_prob.max()\n",
    "\n",
    "pred_dict = {\"Class\":classname, \"Probability\":prediction_prob}\n",
    "print(pred_dict)\n",
    "\n",
    "#ploting image with predicted class name        \n",
    "plt.figure(figsize = (4,4))\n",
    "plt.imshow(new_img)\n",
    "plt.axis('off')\n",
    "plt.title(classname)\n",
    "plt.show()"
   ]
  }
 ],
 "metadata": {
  "kernelspec": {
   "display_name": "Python 3",
   "language": "python",
   "name": "python3"
  },
  "language_info": {
   "codemirror_mode": {
    "name": "ipython",
    "version": 3
   },
   "file_extension": ".py",
   "mimetype": "text/x-python",
   "name": "python",
   "nbconvert_exporter": "python",
   "pygments_lexer": "ipython3",
   "version": "3.7.10"
  },
  "papermill": {
   "default_parameters": {},
   "duration": 35.842683,
   "end_time": "2022-08-29T07:54:59.772682",
   "environment_variables": {},
   "exception": null,
   "input_path": "__notebook__.ipynb",
   "output_path": "__notebook__.ipynb",
   "parameters": {},
   "start_time": "2022-08-29T07:54:23.929999",
   "version": "2.3.3"
  }
 },
 "nbformat": 4,
 "nbformat_minor": 5
}
